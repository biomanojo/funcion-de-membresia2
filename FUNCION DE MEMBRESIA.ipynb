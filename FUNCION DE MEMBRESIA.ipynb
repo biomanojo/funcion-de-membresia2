{
 "cells": [
  {
   "cell_type": "code",
   "execution_count": 1,
   "metadata": {
    "collapsed": true
   },
   "outputs": [],
   "source": [
    "\n",
    "\n",
    "\n"
   ]
  },
  {
   "cell_type": "markdown",
   "metadata": {},
   "source": [
    "$$ FUNCIONES - DE - MEMBRESIA $$"
   ]
  },
  {
   "cell_type": "code",
   "execution_count": 3,
   "metadata": {
    "collapsed": false
   },
   "outputs": [
    {
     "data": {
      "text/plain": [
       "[<matplotlib.lines.Line2D at 0x49822b0>]"
      ]
     },
     "execution_count": 3,
     "metadata": {},
     "output_type": "execute_result"
    },
    {
     "data": {
      "image/png": "[encoded data removed]",
      "text/plain": [
       "<matplotlib.figure.Figure at 0x3aba830>"
      ]
     },
     "metadata": {},
     "output_type": "display_data"
    }
   ],
   "source": [
    "%matplotlib inline\n",
    "import numpy as np\n",
    "import matplotlib.pyplot as plt\n",
    "\n",
    "x=np.linspace(0,100)\n",
    "a=10\n",
    "b=50\n",
    "c=90\n",
    "\n",
    "plt.xlabel('Valores de X')\n",
    "plt.title('Funcion Triangulo')\n",
    "\n",
    "plt.grid()\n",
    "\n",
    "def f(x,a,b,c):\n",
    "    if ((x<a) | (x>=c)):\n",
    "        ans=0\n",
    "    if ((a<=x) & (x<b)):\n",
    "         ans=(x-a)\n",
    "    if ((b<=x) & (x<=c)):\n",
    "        ans=c-x\n",
    "    return ans\n",
    "\n",
    "f_vec = np.vectorize(f)\n",
    "func=f_vec(x,a,b,c)\n",
    "plt.plot(x,f_vec(x,a,b,c))\n",
    "\n"
   ]
  },
  {
   "cell_type": "markdown",
   "metadata": {
    "collapsed": false
   },
   "source": [
    "\n",
    "\n",
    "$$ FUNCION - TRIANGULAR $$\n",
    "\n",
    "$$f(x)=\\begin{cases}{0}&\\ x\\leq a\\\\\\frac{x-a}{b-a} &\\ a\\leq x \\leq b \\\\\\frac{c-x}{c-b} & \\ b\\leq x \\leq c\\\\\\ {0}&\\ x\\geq a\\end{cases}$$\n",
    "\n",
    "$$μΑ(x) ={a< m< b}$$\n",
    "\n",
    "\n"
   ]
  },
  {
   "cell_type": "code",
   "execution_count": 4,
   "metadata": {
    "collapsed": false
   },
   "outputs": [
    {
     "name": "stdout",
     "output_type": "stream",
     "text": [
      "func\n"
     ]
    },
    {
     "data": {
      "text/plain": [
       "[<matplotlib.lines.Line2D at 0x49bdbb0>]"
      ]
     },
     "execution_count": 4,
     "metadata": {},
     "output_type": "execute_result"
    },
    {
     "data": {
      "image/png": "[encoded data removed]",
      "text/plain": [
       "<matplotlib.figure.Figure at 0x2e52830>"
      ]
     },
     "metadata": {},
     "output_type": "display_data"
    }
   ],
   "source": [
    "   %matplotlib inline\n",
    "import numpy as np\n",
    "import matplotlib.pyplot as plt\n",
    "\n",
    "x=[0,10,10,20,100,150,180,200]\n",
    "x0=10\n",
    "x1=30\n",
    "x2=180\n",
    "x3=200\n",
    "plt.grid()\n",
    "def fxTrapezoide(x,x0,x1,x2,x3):\n",
    "    \"\"\"\n",
    "        funcion de membresia Trapezoide\n",
    "    \"\"\"\n",
    "    if x<=x0:\n",
    "        return 0.0\n",
    "    if x>x0 and x<=x1:\n",
    "        return (x/(x1-x0))-(x0/(x1-x0))\n",
    "    if x>x1 and x<=x2:\n",
    "        return 1.0\n",
    "    if x>x2 and x<=x3:\n",
    "        return -(x/(x3-x2))+(x3/(x3-x2))\n",
    "\n",
    "        return 0.0\n",
    "    \n",
    "f_vec = np.vectorize(fxTrapezoide)\n",
    "func=f_vec(x,x0,x1,x2,x3)\n",
    "print(\"func\")\n",
    "plt.axis([x[0], x[1],-0.0 , 1.5])\n",
    "plt.plot(f_vec(x,x0,x1,x2,x3))\n"
   ]
  },
  {
   "cell_type": "markdown",
   "metadata": {
    "collapsed": false
   },
   "source": [
    "$$ FUNCION -PARAIZOIDAL$$\n",
    "\n",
    "\\begin{cases}{0}&\\ x\\leq a\\\\\\frac{x-a}{b-a} &\\ a\\leq x \\leq b \\\\{1}&\\ b\\leq x\\leq c \\\\\\frac{d-x}{d-c} & \\ c\\leq x \\leq d \\\\\\ {0}&\\ x\\geq d\\end{cases}\n",
    "\n",
    "\\begin{cases}{ a\\leq b \\leq c \\leq d }\\end{cases}"
   ]
  },
  {
   "cell_type": "code",
   "execution_count": 5,
   "metadata": {
    "collapsed": false
   },
   "outputs": [
    {
     "name": "stdout",
     "output_type": "stream",
     "text": [
      "func\n"
     ]
    },
    {
     "data": {
      "text/plain": [
       "[<matplotlib.lines.Line2D at 0x55a5f30>]"
      ]
     },
     "execution_count": 5,
     "metadata": {},
     "output_type": "execute_result"
    },
    {
     "data": {
      "image/png": "[encoded data removed]",
      "text/plain": [
       "<matplotlib.figure.Figure at 0x2e527b0>"
      ]
     },
     "metadata": {},
     "output_type": "display_data"
    }
   ],
   "source": [
    "%matplotlib inline\n",
    "import numpy as np\n",
    "import matplotlib.pyplot as plt\n",
    "\n",
    "x=[0,10,10,20,100,150,180,200]\n",
    "x0=10\n",
    "x1=30\n",
    "x2=200\n",
    "x3=200\n",
    "plt.grid()\n",
    "def fxTrapezoide(x,x0,x1,x2,x3):\n",
    "    \"\"\"\n",
    "        funcion de membresia Trapezoide\n",
    "    \"\"\"\n",
    "    if x<=x0:\n",
    "        return 0.0\n",
    "    if x>x0 and x<=x1:\n",
    "        return (x/(x1-x0))-(x0/(x1-x0))\n",
    "    if x>x1 and x<=x2:\n",
    "        return 1.0\n",
    "    if x>x2 and x<=x3:\n",
    "        return -(x/(x3-x2))+(x3/(x3-x2))\n",
    "\n",
    "        return 0.0\n",
    "    \n",
    "f_vec = np.vectorize(fxTrapezoide)\n",
    "func=f_vec(x,x0,x1,x2,x3)\n",
    "print(\"func\")\n",
    "plt.axis([x[0], x[1],-0.1 , 1.5])\n",
    "plt.plot(f_vec(x,x0,x1,x2,x3))"
   ]
  },
  {
   "cell_type": "markdown",
   "metadata": {
    "collapsed": false
   },
   "source": [
    "$$ FUNCION - HOMBRO$$\n",
    "\n",
    "\\begin{cases}{0}&\\ x\\leq a\\\\\\frac{x-a}{b-a} &\\ a\\leq x \\leq b \\\\{1}&\\ b\\leq x\\leq c \\\\\\frac{d-x}{d-c} & \\ c\\leq x \\leq d \\\\\\ {0}&\\ x\\geq d\\end{cases}\n",
    "\n",
    "\\begin{cases}{ a\\leq b \\leq c \\leq d }\\end{cases}"
   ]
  },
  {
   "cell_type": "code",
   "execution_count": 8,
   "metadata": {
    "collapsed": false
   },
   "outputs": [
    {
     "data": {
      "image/png": "[encoded data removed]",
      "text/plain": [
       "<matplotlib.figure.Figure at 0x56070d0>"
      ]
     },
     "metadata": {},
     "output_type": "display_data"
    }
   ],
   "source": [
    "import math\n",
    "plt.grid()\n",
    "def sigmoid(x):\n",
    "    a = []\n",
    "    for item in x:\n",
    "        a.append(1/(1+math.exp(-item)))\n",
    "    return a\n",
    "\n",
    "import matplotlib.pyplot as plt\n",
    "import numpy as np\n",
    "\n",
    "x = np.arange(-10., 10., 0.2)\n",
    "sig = sigmoid(x)\n",
    "plt.plot(x,sig)\n",
    "plt.show()"
   ]
  },
  {
   "cell_type": "markdown",
   "metadata": {
    "collapsed": true
   },
   "source": [
    "$$ FUNCION - SIGMOIDAL $$\n",
    "\n",
    "$$F(X)= \\frac{1}{1 + e^-a}$$"
   ]
  },
  {
   "cell_type": "code",
   "execution_count": null,
   "metadata": {
    "collapsed": true
   },
   "outputs": [],
   "source": []
  }
 ],
 "metadata": {
  "anaconda-cloud": {},
  "kernelspec": {
   "display_name": "Python [Root]",
   "language": "python",
   "name": "Python [Root]"
  },
  "language_info": {
   "codemirror_mode": {
    "name": "ipython",
    "version": 3
   },
   "file_extension": ".py",
   "mimetype": "text/x-python",
   "name": "python",
   "nbconvert_exporter": "python",
   "pygments_lexer": "ipython3",
   "version": "3.5.2"
  }
 },
 "nbformat": 4,
 "nbformat_minor": 0
}
